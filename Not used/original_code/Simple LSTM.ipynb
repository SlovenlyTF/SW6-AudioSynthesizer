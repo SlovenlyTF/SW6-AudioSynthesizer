{
 "cells": [
  {
   "cell_type": "markdown",
   "metadata": {},
   "source": [
    "**Introduction**"
   ]
  },
  {
   "cell_type": "markdown",
   "metadata": {},
   "source": [
    "***Libraries***"
   ]
  },
  {
   "cell_type": "code",
   "execution_count": null,
   "metadata": {},
   "outputs": [],
   "source": [
    "# Importing libraries\n",
    "import tensorflow as tf\n",
    "import numpy as np\n",
    "import pickle\n",
    "import json\n",
    "import librosa\n",
    "import librosa.display\n",
    "import math\n",
    "import wav_to_timeseperated_arrays as wtta\n",
    "\n",
    "from keras.metrics import Accuracy, Precision, Recall, F1Score\n",
    "from tensorflow.keras import layers, models\n",
    "from sklearn.model_selection import train_test_split\n",
    "from sklearn.metrics import accuracy_score\n",
    "from sklearn import svm\n",
    "from os.path import exists\n",
    "from keras.callbacks import ReduceLROnPlateau, EarlyStopping\n",
    "\n",
    "# Plotting\n",
    "import matplotlib.pyplot as plt\n",
    "import seaborn as sb\n",
    "import pandas as pd"
   ]
  },
  {
   "cell_type": "markdown",
   "metadata": {},
   "source": [
    "**Preprocessing**\n",
    "\n",
    "Librosa --> split audio file into multiple spectrograms\n",
    "\n",
    "(potentially) Krisp --> noise reductions"
   ]
  },
  {
   "cell_type": "code",
   "execution_count": null,
   "metadata": {},
   "outputs": [],
   "source": [
    "Input = wtta.audio_to_arrays(\"./Data/Jingle Bells 1 Mads Synced.wav\", timestep=0.5)\n",
    "Input.append(wtta.audio_to_arrays(\"./Data/Jingle Bells 1 Toby Synced.wav\", timestep=0.5))"
   ]
  },
  {
   "cell_type": "markdown",
   "metadata": {},
   "source": [
    "**Data**"
   ]
  },
  {
   "cell_type": "code",
   "execution_count": null,
   "metadata": {},
   "outputs": [],
   "source": [
    "\n",
    "results = []"
   ]
  },
  {
   "cell_type": "markdown",
   "metadata": {},
   "source": [
    "**Model**"
   ]
  },
  {
   "cell_type": "code",
   "execution_count": null,
   "metadata": {},
   "outputs": [],
   "source": [
    "# Still very much WIP\n",
    "\n",
    "# Builds the LSTM model\n",
    "def build_LSTM():\n",
    "  \n",
    "\tmodel = tf.keras.Sequential([\n",
    "\t\ttf.keras.layers.Embedding(128, input_shape=(11025)),\n",
    "\t\ttf.keras.layers.LSTM(units=256, return_sequences=True),\n",
    "\t\ttf.keras.layers.LSTM(units=512, return_sequences=True),\n",
    "\t\ttf.keras.layers.LSTM(units=256, return_sequences=True),\n",
    "\t\ttf.keras.layers.LSTM(units=128, return_sequences=True),\n",
    "\t\ttf.keras.layers.LSTM(units=64, return_sequences=True),\n",
    "\t\ttf.keras.layers.LSTM(units=32),\n",
    "\t\ttf.keras.layers.Dense(1, input_shape=(11025))\n",
    "\t])\n",
    "\n",
    "\tearly_stopper = EarlyStopping( monitor = 'accuracy' , min_delta = 0.05, patience = 3 )\n",
    "\n",
    "\treduce_lr = ReduceLROnPlateau( monitor = 'loss' , patience = 2 , cooldown = 0)\n",
    "\n",
    "\tcallbacks = [reduce_lr, early_stopper]\n",
    "\n",
    "\t# Compile the model\n",
    "\tmodel.compile(optimizer='adam', loss='binary_crossentropy', metrics=['accuracy', F1Score()])\n",
    "\n",
    "\tmodel.fit(samples, results, epochs=10, batchsize=64, callbacks=callbacks)\n",
    "\n",
    "\t# Return the model\n",
    "\treturn model"
   ]
  },
  {
   "cell_type": "code",
   "execution_count": null,
   "metadata": {},
   "outputs": [],
   "source": [
    "# Example usage\n",
    "\n",
    "LSTM_model = build_crnn(input_shape, num_classes)\n",
    "LSTM_model.summary()\n"
   ]
  }
 ],
 "metadata": {
  "kernelspec": {
   "display_name": "Python 3",
   "language": "python",
   "name": "python3"
  },
  "language_info": {
   "codemirror_mode": {
    "name": "ipython",
    "version": 3
   },
   "file_extension": ".py",
   "mimetype": "text/x-python",
   "name": "python",
   "nbconvert_exporter": "python",
   "pygments_lexer": "ipython3",
   "version": "3.11.5"
  }
 },
 "nbformat": 4,
 "nbformat_minor": 2
}
