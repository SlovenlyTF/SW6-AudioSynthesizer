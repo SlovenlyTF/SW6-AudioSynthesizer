{
 "cells": [
  {
   "cell_type": "markdown",
   "metadata": {},
   "source": [
    "**Introduction**"
   ]
  },
  {
   "cell_type": "markdown",
   "metadata": {},
   "source": [
    "***Libraries***"
   ]
  },
  {
   "cell_type": "code",
   "execution_count": 2,
   "metadata": {},
   "outputs": [],
   "source": [
    "# Importing libraries\n",
    "import tensorflow as tf\n",
    "import numpy as np\n",
    "import pickle\n",
    "import json\n",
    "import librosa\n",
    "import librosa.display\n",
    "import math\n",
    "import wav_to_timeseperated_arrays as wtta\n",
    "\n",
    "from keras.metrics import Accuracy, Precision, Recall, F1Score\n",
    "from tensorflow.keras import layers, models\n",
    "from sklearn.model_selection import train_test_split\n",
    "from sklearn.metrics import accuracy_score\n",
    "from sklearn import svm\n",
    "from os.path import exists\n",
    "from keras.callbacks import ReduceLROnPlateau, EarlyStopping\n",
    "\n",
    "# Plotting\n",
    "import matplotlib.pyplot as plt\n",
    "import seaborn as sb\n",
    "import pandas as pd"
   ]
  },
  {
   "cell_type": "markdown",
   "metadata": {},
   "source": [
    "**Preprocessing**\n",
    "\n",
    "Librosa --> split audio file into multiple spectrograms\n",
    "\n",
    "(potentially) Krisp --> noise reductions"
   ]
  },
  {
   "cell_type": "code",
   "execution_count": 4,
   "metadata": {},
   "outputs": [
    {
     "name": "stdout",
     "output_type": "stream",
     "text": [
      "(11025,)(11025,)(11025,)(11025,)(11025,)(11025,)(11025,)(11025,)"
     ]
    }
   ],
   "source": [
    "audio_file = './Data/Sample (Work work).wav'\n",
    "samples = wtta.audio_to_arrays(audio_file, timestep=0.5)"
   ]
  },
  {
   "cell_type": "markdown",
   "metadata": {},
   "source": [
    "**Model**"
   ]
  },
  {
   "cell_type": "code",
   "execution_count": 91,
   "metadata": {},
   "outputs": [],
   "source": [
    "# Still very much WIP\n",
    "\n",
    "# Builds the LSTM model\n",
    "def build_LSTM():\n",
    "  \n",
    "\tmodel = tf.keras.Sequential([\n",
    "\t\ttf.keras.layers.Embedding(128, input_shape=(11025)),\n",
    "\t\ttf.keras.layers.LSTM(units=256, return_sequences=True),\n",
    "\t\ttf.keras.layers.LSTM(units=512, return_sequences=True),\n",
    "\t\ttf.keras.layers.LSTM(units=256, return_sequences=True),\n",
    "\t\ttf.keras.layers.LSTM(units=128, return_sequences=True),\n",
    "\t\ttf.keras.layers.LSTM(units=64, return_sequences=True),\n",
    "\t\ttf.keras.layers.LSTM(units=32),\n",
    "\t\ttf.keras.layers.Dense(1, input_shape=(11025))\n",
    "\t])\n",
    "\n",
    "\tearly_stopper = EarlyStopping( monitor = 'accuracy' , min_delta = 0.05, patience = 3 )\n",
    "\n",
    "\treduce_lr = ReduceLROnPlateau( monitor = 'loss' , patience = 2 , cooldown = 0)\n",
    "\n",
    "\tcallbacks = [reduce_lr, early_stopper]\n",
    "\n",
    "\t# Compile the model\n",
    "\tmodel.compile(optimizer='adam', loss='binary_crossentropy', metrics=['accuracy', F1Score()])\n",
    "\n",
    "\treturn model"
   ]
  },
  {
   "cell_type": "code",
   "execution_count": 92,
   "metadata": {},
   "outputs": [
    {
     "name": "stdout",
     "output_type": "stream",
     "text": [
      "WARNING:tensorflow:From C:\\Users\\tubbe\\AppData\\Local\\Packages\\PythonSoftwareFoundation.Python.3.11_qbz5n2kfra8p0\\LocalCache\\local-packages\\Python311\\site-packages\\keras\\src\\backend.py:873: The name tf.get_default_graph is deprecated. Please use tf.compat.v1.get_default_graph instead.\n",
      "\n",
      "[64, 128, 192, 256, 320, 384, 448, 512]\n",
      "WARNING:tensorflow:From C:\\Users\\tubbe\\AppData\\Local\\Packages\\PythonSoftwareFoundation.Python.3.11_qbz5n2kfra8p0\\LocalCache\\local-packages\\Python311\\site-packages\\keras\\src\\layers\\pooling\\max_pooling2d.py:161: The name tf.nn.max_pool is deprecated. Please use tf.nn.max_pool2d instead.\n",
      "\n",
      "number of neurons for hidden layer  1 : 64\n",
      "number of neurons for hidden layer  2 : 128\n",
      "number of neurons for hidden layer  3 : 192\n",
      "number of neurons for hidden layer  4 : 256\n",
      "number of neurons for hidden layer  5 : 320\n",
      "number of neurons for hidden layer  6 : 384\n",
      "number of neurons for hidden layer  7 : 448\n",
      "number of neurons for hidden layer  8 : 512\n",
      "Model: \"sequential\"\n",
      "_________________________________________________________________\n",
      " Layer (type)                Output Shape              Param #   \n",
      "=================================================================\n",
      " conv2d (Conv2D)             (None, 126, 126, 32)      320       \n",
      "                                                                 \n",
      " max_pooling2d (MaxPooling2  (None, 63, 63, 32)        0         \n",
      " D)                                                              \n",
      "                                                                 \n",
      " conv2d_1 (Conv2D)           (None, 63, 63, 64)        18496     \n",
      "                                                                 \n",
      " max_pooling2d_1 (MaxPoolin  (None, 32, 32, 64)        0         \n",
      " g2D)                                                            \n",
      "                                                                 \n",
      " conv2d_2 (Conv2D)           (None, 32, 32, 128)       73856     \n",
      "                                                                 \n",
      " max_pooling2d_2 (MaxPoolin  (None, 16, 16, 128)       0         \n",
      " g2D)                                                            \n",
      "                                                                 \n",
      " conv2d_3 (Conv2D)           (None, 16, 16, 192)       221376    \n",
      "                                                                 \n",
      " max_pooling2d_3 (MaxPoolin  (None, 8, 8, 192)         0         \n",
      " g2D)                                                            \n",
      "                                                                 \n",
      " conv2d_4 (Conv2D)           (None, 8, 8, 256)         442624    \n",
      "                                                                 \n",
      " max_pooling2d_4 (MaxPoolin  (None, 4, 4, 256)         0         \n",
      " g2D)                                                            \n",
      "                                                                 \n",
      " conv2d_5 (Conv2D)           (None, 4, 4, 320)         737600    \n",
      "                                                                 \n",
      " max_pooling2d_5 (MaxPoolin  (None, 2, 2, 320)         0         \n",
      " g2D)                                                            \n",
      "                                                                 \n",
      " conv2d_6 (Conv2D)           (None, 2, 2, 384)         1106304   \n",
      "                                                                 \n",
      " max_pooling2d_6 (MaxPoolin  (None, 1, 1, 384)         0         \n",
      " g2D)                                                            \n",
      "                                                                 \n",
      " conv2d_7 (Conv2D)           (None, 1, 1, 448)         1548736   \n",
      "                                                                 \n",
      " max_pooling2d_7 (MaxPoolin  (None, 1, 1, 448)         0         \n",
      " g2D)                                                            \n",
      "                                                                 \n",
      " conv2d_8 (Conv2D)           (None, 1, 1, 512)         2064896   \n",
      "                                                                 \n",
      " max_pooling2d_8 (MaxPoolin  (None, 1, 1, 512)         0         \n",
      " g2D)                                                            \n",
      "                                                                 \n",
      " reshape (Reshape)           (None, 1, 512)            0         \n",
      "                                                                 \n",
      " gru (GRU)                   (None, 1, 64)             110976    \n",
      "                                                                 \n",
      " gru_1 (GRU)                 (None, 64)                24960     \n",
      "                                                                 \n",
      " dense (Dense)               (None, 10)                650       \n",
      "                                                                 \n",
      "=================================================================\n",
      "Total params: 6350794 (24.23 MB)\n",
      "Trainable params: 6350794 (24.23 MB)\n",
      "Non-trainable params: 0 (0.00 Byte)\n",
      "_________________________________________________________________\n"
     ]
    }
   ],
   "source": [
    "# Example usage\n",
    "\n",
    "LSTM_model = build_crnn(input_shape, num_classes)\n",
    "LSTM_model.summary()\n"
   ]
  }
 ],
 "metadata": {
  "kernelspec": {
   "display_name": "Python 3",
   "language": "python",
   "name": "python3"
  },
  "language_info": {
   "codemirror_mode": {
    "name": "ipython",
    "version": 3
   },
   "file_extension": ".py",
   "mimetype": "text/x-python",
   "name": "python",
   "nbconvert_exporter": "python",
   "pygments_lexer": "ipython3",
   "version": "3.11.8"
  }
 },
 "nbformat": 4,
 "nbformat_minor": 2
}
